{
 "cells": [
  {
   "cell_type": "code",
   "execution_count": 1,
   "id": "a46a19ab",
   "metadata": {},
   "outputs": [
    {
     "name": "stdout",
     "output_type": "stream",
     "text": [
      "Enter the height of the triangle:4\n",
      "Enter the base of the triangle: 5\n",
      "Area of traingle is : 10.0\n"
     ]
    }
   ],
   "source": [
    "height = float(input(\"Enter the height of the triangle:\"))\n",
    "base = float(input(\"Enter the base of the triangle: \"))\n",
    "\n",
    "area = 0.5*base*height\n",
    "\n",
    "print(\"Area of traingle is :\", area)"
   ]
  },
  {
   "cell_type": "code",
   "execution_count": null,
   "id": "96094040",
   "metadata": {},
   "outputs": [],
   "source": []
  }
 ],
 "metadata": {
  "kernelspec": {
   "display_name": "Python 3 (ipykernel)",
   "language": "python",
   "name": "python3"
  },
  "language_info": {
   "codemirror_mode": {
    "name": "ipython",
    "version": 3
   },
   "file_extension": ".py",
   "mimetype": "text/x-python",
   "name": "python",
   "nbconvert_exporter": "python",
   "pygments_lexer": "ipython3",
   "version": "3.9.12"
  }
 },
 "nbformat": 4,
 "nbformat_minor": 5
}
